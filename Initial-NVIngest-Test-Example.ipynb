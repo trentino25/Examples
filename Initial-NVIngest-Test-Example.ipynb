{
 "cells": [
  {
   "cell_type": "code",
   "execution_count": 1,
   "id": "abbc3fbd-198f-462a-bf20-0b3eb4543871",
   "metadata": {},
   "outputs": [
    {
     "name": "stdout",
     "output_type": "stream",
     "text": [
      "NV-INGEST client imported successfully!\n"
     ]
    }
   ],
   "source": [
    "from nv_ingest_client.client import NvIngestClient\n",
    "print(\"NV-INGEST client imported successfully!\")"
   ]
  },
  {
   "cell_type": "code",
   "execution_count": 2,
   "id": "8b9355dc-849d-4aba-9bd6-afa757d0e26b",
   "metadata": {},
   "outputs": [
    {
     "name": "stdout",
     "output_type": "stream",
     "text": [
      "NV-INGEST client created successfully!\n",
      "Client type: <class 'nv_ingest_client.client.client.NvIngestClient'>\n"
     ]
    }
   ],
   "source": [
    "# Test that we can create a client instance\n",
    "try:\n",
    "    client = NvIngestClient()\n",
    "    print(\"NV-INGEST client created successfully!\")\n",
    "    print(f\"Client type: {type(client)}\")\n",
    "except Exception as e:\n",
    "    print(f\"Error creating client: {e}\")"
   ]
  },
  {
   "cell_type": "code",
   "execution_count": 3,
   "id": "f64b70b1-e513-4fbb-b247-1402b0840806",
   "metadata": {},
   "outputs": [
    {
     "name": "stdout",
     "output_type": "stream",
     "text": [
      "Successfully downloaded PDF: cdc_medical_document.pdf\n",
      "File size: 3154228 bytes\n",
      "File exists: True\n"
     ]
    }
   ],
   "source": [
    "import requests\n",
    "import os\n",
    "\n",
    "# Try a CDC emergency medical services document\n",
    "url = \"https://www.cdc.gov/mmwr/pdf/other/su6001.pdf\"\n",
    "filename = \"cdc_medical_document.pdf\"\n",
    "\n",
    "try:\n",
    "    response = requests.get(url)\n",
    "    response.raise_for_status()\n",
    "    \n",
    "    with open(filename, 'wb') as f:\n",
    "        f.write(response.content)\n",
    "    \n",
    "    print(f\"Successfully downloaded PDF: {filename}\")\n",
    "    print(f\"File size: {len(response.content)} bytes\")\n",
    "    print(f\"File exists: {os.path.exists(filename)}\")\n",
    "    \n",
    "except Exception as e:\n",
    "    print(f\"Error downloading PDF: {e}\")\n",
    "    # If this fails too, let's create a simple test PDF instead\n",
    "    print(\"Let's try creating a simple test PDF instead...\")"
   ]
  },
  {
   "cell_type": "code",
   "execution_count": 5,
   "id": "d45deae6-61f7-479b-9b11-21d70b139206",
   "metadata": {},
   "outputs": [
    {
     "name": "stdout",
     "output_type": "stream",
     "text": [
      "✅ File found: C:\\Users\\asoller\\nv-ingest-project\\documents\\pharmacopia 2014.pdf\n",
      "📄 File size: 3,355,718 bytes (3.20 MB)\n",
      "✅ PDF loaded successfully\n",
      "📊 Content size: 3,355,718 bytes\n",
      "✅ NV-INGEST client ready\n",
      "🎯 Ready to process pharmacopia 2014.pdf!\n"
     ]
    }
   ],
   "source": [
    "import os\n",
    "\n",
    "# Test with your local PDF file\n",
    "pdf_path = r\"C:\\Users\\asoller\\nv-ingest-project\\documents\\pharmacopia 2014.pdf\"\n",
    "\n",
    "try:\n",
    "    # First, check if the file exists\n",
    "    if os.path.exists(pdf_path):\n",
    "        print(f\"✅ File found: {pdf_path}\")\n",
    "        \n",
    "        # Get file size\n",
    "        file_size = os.path.getsize(pdf_path)\n",
    "        print(f\"📄 File size: {file_size:,} bytes ({file_size/1024/1024:.2f} MB)\")\n",
    "        \n",
    "        # Load the PDF content\n",
    "        with open(pdf_path, 'rb') as f:\n",
    "            pdf_content = f.read()\n",
    "        \n",
    "        print(f\"✅ PDF loaded successfully\")\n",
    "        print(f\"📊 Content size: {len(pdf_content):,} bytes\")\n",
    "        \n",
    "        # Create NV-INGEST client\n",
    "        client = NvIngestClient()\n",
    "        print(\"✅ NV-INGEST client ready\")\n",
    "        print(\"🎯 Ready to process pharmacopia 2014.pdf!\")\n",
    "        \n",
    "    else:\n",
    "        print(f\"❌ File not found at: {pdf_path}\")\n",
    "        print(\"Please check the file path and make sure the file exists\")\n",
    "        \n",
    "except Exception as e:\n",
    "    print(f\"❌ Error: {e}\")"
   ]
  },
  {
   "cell_type": "code",
   "execution_count": null,
   "id": "a6766420-7825-40f9-872f-9a7dd85a93a5",
   "metadata": {},
   "outputs": [],
   "source": []
  }
 ],
 "metadata": {
  "kernelspec": {
   "display_name": "Python 3 (ipykernel)",
   "language": "python",
   "name": "python3"
  },
  "language_info": {
   "codemirror_mode": {
    "name": "ipython",
    "version": 3
   },
   "file_extension": ".py",
   "mimetype": "text/x-python",
   "name": "python",
   "nbconvert_exporter": "python",
   "pygments_lexer": "ipython3",
   "version": "3.11.7"
  }
 },
 "nbformat": 4,
 "nbformat_minor": 5
}
