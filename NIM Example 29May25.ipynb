{
 "cells": [
  {
   "cell_type": "code",
   "execution_count": 17,
   "id": "46d4e489-1188-4721-a4a5-6028d24283a3",
   "metadata": {},
   "outputs": [
    {
     "name": "stdout",
     "output_type": "stream",
     "text": [
      "Testing connection to Llama 3.1 8B...\n",
      "✅ Success! Response:\n",
      "Hello! I'm working hard to assist you with any questions or tasks you may have! How can I help you today?\n"
     ]
    }
   ],
   "source": [
    "from openai import OpenAI\n",
    "\n",
    "client = OpenAI(\n",
    "    base_url=\"https://integrate.api.nvidia.com/v1\",\n",
    "    api_key=\"insert API key\"\n",
    ")\n",
    "\n",
    "try:\n",
    "    print(\"Testing connection to Llama 3.1 8B...\")\n",
    "    \n",
    "    response = client.chat.completions.create(\n",
    "        model=\"meta/llama-3.1-8b-instruct\",\n",
    "        messages=[{\"role\": \"user\", \"content\": \"Say hello and tell me you're working!\"}],\n",
    "        max_tokens=50,\n",
    "        temperature=0.7\n",
    "    )\n",
    "    \n",
    "    print(\"✅ Success! Response:\")\n",
    "    print(response.choices[0].message.content)\n",
    "    \n",
    "except Exception as e:\n",
    "    print(f\"❌ Error: {e}\")\n",
    "    print(\"\\nTroubleshooting tips:\")\n",
    "    print(\"1. Make sure you replaced 'YOUR_API_KEY' with your real API key\")\n",
    "    print(\"2. Check your internet connection\")\n",
    "    print(\"3. Verify your API key at https://build.nvidia.com/\")"
   ]
  }
 ],
 "metadata": {
  "kernelspec": {
   "display_name": "Python 3 (ipykernel)",
   "language": "python",
   "name": "python3"
  },
  "language_info": {
   "codemirror_mode": {
    "name": "ipython",
    "version": 3
   },
   "file_extension": ".py",
   "mimetype": "text/x-python",
   "name": "python",
   "nbconvert_exporter": "python",
   "pygments_lexer": "ipython3",
   "version": "3.11.7"
  }
 },
 "nbformat": 4,
 "nbformat_minor": 5
}
