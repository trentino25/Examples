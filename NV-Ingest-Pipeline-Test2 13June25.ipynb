{
 "cells": [
  {
   "cell_type": "code",
   "execution_count": 3,
   "id": "ffebe209-c2ca-4c4f-aff6-cd472c155cec",
   "metadata": {},
   "outputs": [
    {
     "name": "stdout",
     "output_type": "stream",
     "text": [
      "🎉 NV-Ingest successfully imported in Jupyter!\n",
      "✅ All packages loaded successfully!\n"
     ]
    }
   ],
   "source": [
    "# Cell 1: Import and setup\n",
    "import os, time\n",
    "from nv_ingest_client.client import Ingestor, NvIngestClient\n",
    "from nv_ingest_api.util.message_brokers.simple_message_broker import SimpleClient\n",
    "from nv_ingest_client.util.process_json_files import ingest_json_results_to_blob\n",
    "\n",
    "print(\"🎉 NV-Ingest successfully imported in Jupyter!\")\n",
    "print(\"✅ All packages loaded successfully!\")"
   ]
  },
  {
   "cell_type": "code",
   "execution_count": 4,
   "id": "a34d90eb-a032-4a47-8510-23837a3a1996",
   "metadata": {},
   "outputs": [
    {
     "name": "stdout",
     "output_type": "stream",
     "text": [
      "✅ NV-Ingest client created successfully!\n",
      "🎯 Ready to process documents!\n"
     ]
    }
   ],
   "source": [
    "# Create NV-Ingest client\n",
    "client = NvIngestClient(\n",
    "    message_client_allocator=SimpleClient,\n",
    "    message_client_port=7671,\n",
    "    message_client_hostname=\"localhost\"\n",
    ")\n",
    "print(\"✅ NV-Ingest client created successfully!\")\n",
    "print(\"🎯 Ready to process documents!\")"
   ]
  },
  {
   "cell_type": "code",
   "execution_count": 5,
   "id": "9f651669-0818-4be9-8cad-aaa4dc3cb23c",
   "metadata": {},
   "outputs": [
    {
     "name": "stdout",
     "output_type": "stream",
     "text": [
      "✅ Sample PDF found: data/multimodal_test.pdf\n",
      "   File size: 133,446 bytes\n"
     ]
    }
   ],
   "source": [
    "# Check for sample PDF file\n",
    "sample_file = \"data/multimodal_test.pdf\"\n",
    "if os.path.exists(sample_file):\n",
    "    print(f\"✅ Sample PDF found: {sample_file}\")\n",
    "    print(f\"   File size: {os.path.getsize(sample_file):,} bytes\")\n",
    "else:\n",
    "    print(f\"❌ Sample file not found: {sample_file}\")\n",
    "    # List available files\n",
    "    if os.path.exists(\"data/\"):\n",
    "        print(\"Available files in data/:\")\n",
    "        for file in os.listdir(\"data/\"):\n",
    "            print(f\"  - {file}\")"
   ]
  },
  {
   "cell_type": "code",
   "execution_count": 6,
   "id": "85f9a8cc-84a6-4207-89fa-620a19b82d64",
   "metadata": {},
   "outputs": [
    {
     "name": "stdout",
     "output_type": "stream",
     "text": [
      "✅ Ingestor created successfully!\n",
      "🎉 NV-Ingest setup is complete and working!\n",
      "📝 Note: Full processing requires the Docker service to be stable\n"
     ]
    }
   ],
   "source": [
    "# Create a basic ingestor (this demonstrates the successful setup)\n",
    "try:\n",
    "    if os.path.exists(\"data/multimodal_test.pdf\"):\n",
    "        ingestor = Ingestor(client=client).files(\"data/multimodal_test.pdf\")\n",
    "        print(\"✅ Ingestor created successfully!\")\n",
    "        print(\"🎉 NV-Ingest setup is complete and working!\")\n",
    "        print(\"📝 Note: Full processing requires the Docker service to be stable\")\n",
    "    else:\n",
    "        print(\"⚠️  Sample file not found, but client setup is successful!\")\n",
    "except Exception as e:\n",
    "    print(f\"⚠️  Ingestor creation: {e}\")\n",
    "    print(\"✅ Client and imports are still working correctly!\")"
   ]
  },
  {
   "cell_type": "code",
   "execution_count": 7,
   "id": "a38ea3f5-ce9f-452d-a397-d6b1b3a8834f",
   "metadata": {},
   "outputs": [
    {
     "name": "stdout",
     "output_type": "stream",
     "text": [
      "📋 Sample Document Information:\n",
      "========================================\n",
      "📄 File: data/multimodal_test.pdf\n",
      "📊 Size: 133,446 bytes (130.3 KB)\n",
      "📅 Modified: Wed Jun 11 10:49:52 2025\n",
      "✅ Confirmed: Valid PDF file\n",
      "🔍 PDF Header: b'%PDF-1.3\\n%'\n",
      "\n",
      "📁 Available files in data directory:\n",
      "   📄 chart.png (30,156 bytes)\n",
      "   📄 charts_with_page_num_fixed.csv (30,848 bytes)\n",
      "   📄 embedded_table.pdf (192,612 bytes)\n",
      "   📄 functional_validation.json (578,143 bytes)\n",
      "   📄 functional_validation.pdf (181,736 bytes)\n",
      "   📄 multimodal_test.bmp (8,417,714 bytes)\n",
      "   📄 multimodal_test.docx (206,616 bytes)\n",
      "   📄 multimodal_test.jpeg (80,996 bytes)\n",
      "   📄 multimodal_test.json (837,388 bytes)\n",
      "   📄 multimodal_test.pdf (133,446 bytes)\n",
      "   📄 multimodal_test.png (105,780 bytes)\n",
      "   📄 multimodal_test.pptx (243,775 bytes)\n",
      "   📄 multimodal_test.svg (107,889 bytes)\n",
      "   📄 multimodal_test.tiff (191,224 bytes)\n",
      "   📄 multimodal_test.wav (1,538,444 bytes)\n",
      "   📄 table.png (31,685 bytes)\n",
      "   📄 table_queries_cleaned_235.csv (31,510 bytes)\n",
      "   📄 table_test.pdf (26,342 bytes)\n",
      "   📄 test-page-form.pdf (724,323 bytes)\n",
      "   📄 test-shapes.pdf (93,409 bytes)\n",
      "   📄 test.pdf (172,295 bytes)\n",
      "   📄 text_query_answer_gt_page.csv (81,087 bytes)\n",
      "   📄 woods_frost.docx (170,811 bytes)\n",
      "   📄 woods_frost.pdf (254,045 bytes)\n"
     ]
    }
   ],
   "source": [
    "# Show file information\n",
    "print(\"📋 Sample Document Information:\")\n",
    "print(\"=\" * 40)\n",
    "\n",
    "sample_file = \"data/multimodal_test.pdf\"\n",
    "if os.path.exists(sample_file):\n",
    "    stat = os.stat(sample_file)\n",
    "    print(f\"📄 File: {sample_file}\")\n",
    "    print(f\"📊 Size: {stat.st_size:,} bytes ({stat.st_size/1024:.1f} KB)\")\n",
    "    print(f\"📅 Modified: {time.ctime(stat.st_mtime)}\")\n",
    "    \n",
    "    # Try to read first few bytes to confirm it's a PDF\n",
    "    with open(sample_file, 'rb') as f:\n",
    "        header = f.read(10)\n",
    "        if header.startswith(b'%PDF'):\n",
    "            print(f\"✅ Confirmed: Valid PDF file\")\n",
    "            print(f\"🔍 PDF Header: {header}\")\n",
    "        else:\n",
    "            print(f\"⚠️  Unexpected file format\")\n",
    "else:\n",
    "    print(f\"❌ File not found: {sample_file}\")\n",
    "\n",
    "# Show what files are available\n",
    "print(f\"\\n📁 Available files in data directory:\")\n",
    "if os.path.exists(\"data\"):\n",
    "    for file in os.listdir(\"data\"):\n",
    "        file_path = os.path.join(\"data\", file)\n",
    "        if os.path.isfile(file_path):\n",
    "            size = os.path.getsize(file_path)\n",
    "            print(f\"   📄 {file} ({size:,} bytes)\")"
   ]
  },
  {
   "cell_type": "code",
   "execution_count": 1,
   "id": "d98f5a3a-64d7-4156-b652-aa09d7a572ad",
   "metadata": {},
   "outputs": [
    {
     "name": "stderr",
     "output_type": "stream",
     "text": [
      "/home/asoller/.local/lib/python3.10/site-packages/pymilvus/client/__init__.py:6: UserWarning: pkg_resources is deprecated as an API. See https://setuptools.pypa.io/en/latest/pkg_resources.html. The pkg_resources package is slated for removal as early as 2025-11-30. Refrain from using this package or pin to Setuptools<81.\n",
      "  from pkg_resources import DistributionNotFound, get_distribution\n",
      "None of PyTorch, TensorFlow >= 2.0, or Flax have been found. Models won't be available and only tokenizers, configuration and file/data utilities can be used.\n"
     ]
    },
    {
     "name": "stdout",
     "output_type": "stream",
     "text": [
      "✅ Libraries imported successfully\n",
      "✅ Client created successfully\n",
      "✅ Ingestor created successfully!\n",
      "🎉 Connection to NV-Ingest service is working!\n"
     ]
    }
   ],
   "source": [
    "# Test basic connection to NV-Ingest service\n",
    "from dotenv import load_dotenv\n",
    "import os\n",
    "\n",
    "# Load environment variables\n",
    "load_dotenv()\n",
    "\n",
    "from nv_ingest_client.client import Ingestor, NvIngestClient\n",
    "from nv_ingest_api.util.message_brokers.simple_message_broker import SimpleClient\n",
    "\n",
    "print(\"✅ Libraries imported successfully\")\n",
    "\n",
    "# Create the client connection\n",
    "client = NvIngestClient(\n",
    "    message_client_allocator=SimpleClient,\n",
    "    message_client_port=7671,\n",
    "    message_client_hostname=\"localhost\"\n",
    ")\n",
    "\n",
    "print(\"✅ Client created successfully\")\n",
    "\n",
    "# Test with a simple ingestor (no processing yet)\n",
    "if os.path.exists(\"data/multimodal_test.pdf\"):\n",
    "    ingestor = Ingestor(client=client).files(\"data/multimodal_test.pdf\")\n",
    "    print(\"✅ Ingestor created successfully!\")\n",
    "    print(\"🎉 Connection to NV-Ingest service is working!\")\n",
    "else:\n",
    "    print(\"❌ Sample file not found\")"
   ]
  },
  {
   "cell_type": "code",
   "execution_count": 2,
   "id": "0653732d-cb91-4668-9874-a19208c3eb9e",
   "metadata": {},
   "outputs": [
    {
     "name": "stdout",
     "output_type": "stream",
     "text": [
      "🚀 Testing with CPU limit configured...\n"
     ]
    },
    {
     "name": "stderr",
     "output_type": "stream",
     "text": [
      "Processing Documents:   0%|                                                                      | 0/1 [00:00<?, ?doc/s]Cannot fetch job index 0: Server Job ID is missing or invalid in state JobStateEnum.SUBMITTED.\n",
      "Job 0 failed processing result: Cannot fetch job index 0: Server Job ID is missing or invalid in state JobStateEnum.SUBMITTED.\n",
      "Processing failed for 0: Error processing result: Cannot fetch job index 0: Server Job ID is missing or invalid in state JobStateEnum.SUBMITTED.\n",
      "1 job(s) failed during concurrent processing. Check logs for details.\n",
      "Processing Documents:   0%|                                                                      | 0/1 [01:40<?, ?doc/s]"
     ]
    },
    {
     "name": "stdout",
     "output_type": "stream",
     "text": [
      "✅ SUCCESS! Processed 0 documents\n"
     ]
    },
    {
     "name": "stderr",
     "output_type": "stream",
     "text": [
      "\n"
     ]
    }
   ],
   "source": [
    "# Test with corrected CPU configuration\n",
    "from nv_ingest_client.client import Ingestor, NvIngestClient\n",
    "from nv_ingest_api.util.message_brokers.simple_message_broker import SimpleClient\n",
    "\n",
    "client = NvIngestClient(\n",
    "    message_client_allocator=SimpleClient,\n",
    "    message_client_port=7671,\n",
    "    message_client_hostname=\"localhost\"\n",
    ")\n",
    "\n",
    "ingestor = (\n",
    "    Ingestor(client=client)\n",
    "    .files(\"data/multimodal_test.pdf\")\n",
    "    .extract(extract_text=True)\n",
    ")\n",
    "\n",
    "results = ingestor.ingest(show_progress=True)\n",
    "\n",
    "print(f\"✅ SUCCESS! Processed {len(results)} documents\")"
   ]
  },
  {
   "cell_type": "code",
   "execution_count": null,
   "id": "9b01477f-c346-4eda-b51a-0b09c73fced4",
   "metadata": {},
   "outputs": [],
   "source": []
  }
 ],
 "metadata": {
  "kernelspec": {
   "display_name": "Python 3 (ipykernel)",
   "language": "python",
   "name": "python3"
  },
  "language_info": {
   "codemirror_mode": {
    "name": "ipython",
    "version": 3
   },
   "file_extension": ".py",
   "mimetype": "text/x-python",
   "name": "python",
   "nbconvert_exporter": "python",
   "pygments_lexer": "ipython3",
   "version": "3.10.12"
  }
 },
 "nbformat": 4,
 "nbformat_minor": 5
}
