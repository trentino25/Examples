{
 "cells": [
  {
   "cell_type": "code",
   "execution_count": 4,
   "id": "ffebe209-c2ca-4c4f-aff6-cd472c155cec",
   "metadata": {},
   "outputs": [
    {
     "name": "stdout",
     "output_type": "stream",
     "text": [
      "🎉 NV-Ingest successfully imported in Jupyter!\n",
      "✅ All packages loaded successfully!\n"
     ]
    }
   ],
   "source": [
    "# Cell 1: Import and setup\n",
    "import os, time\n",
    "from nv_ingest_client.client import Ingestor, NvIngestClient\n",
    "from nv_ingest_api.util.message_brokers.simple_message_broker import SimpleClient\n",
    "from nv_ingest_client.util.process_json_files import ingest_json_results_to_blob\n",
    "\n",
    "print(\"🎉 NV-Ingest successfully imported in Jupyter!\")\n",
    "print(\"✅ All packages loaded successfully!\")"
   ]
  },
  {
   "cell_type": "code",
   "execution_count": 5,
   "id": "a34d90eb-a032-4a47-8510-23837a3a1996",
   "metadata": {},
   "outputs": [
    {
     "name": "stdout",
     "output_type": "stream",
     "text": [
      "✅ NV-Ingest client created successfully!\n",
      "🎯 Ready to process documents!\n"
     ]
    }
   ],
   "source": [
    "# Create NV-Ingest client\n",
    "client = NvIngestClient(\n",
    "    message_client_allocator=SimpleClient,\n",
    "    message_client_port=7671,\n",
    "    message_client_hostname=\"localhost\"\n",
    ")\n",
    "print(\"✅ NV-Ingest client created successfully!\")\n",
    "print(\"🎯 Ready to process documents!\")"
   ]
  },
  {
   "cell_type": "code",
   "execution_count": 15,
   "id": "9f651669-0818-4be9-8cad-aaa4dc3cb23c",
   "metadata": {},
   "outputs": [
    {
     "name": "stdout",
     "output_type": "stream",
     "text": [
      "✅ Sample PDF found: data/multimodal_test.pdf\n",
      "   File size: 133,446 bytes\n",
      "✅ Ingestor created successfully!\n",
      "🎉 NV-Ingest setup is complete and working!\n",
      "📝 Note: Full processing requires the Docker service to be stable\n"
     ]
    }
   ],
   "source": [
    "# Check for sample PDF file\n",
    "sample_file = \"data/multimodal_test.pdf\"\n",
    "if os.path.exists(sample_file):\n",
    "    print(f\"✅ Sample PDF found: {sample_file}\")\n",
    "    print(f\"   File size: {os.path.getsize(sample_file):,} bytes\")\n",
    "else:\n",
    "    print(f\"❌ Sample file not found: {sample_file}\")\n",
    "    # List available files\n",
    "    if os.path.exists(\"data/\"):\n",
    "        print(\"Available files in data/:\")\n",
    "        for file in os.listdir(\"data/\"):\n",
    "            print(f\"  - {file}\")\n",
    "try:\n",
    "    if os.path.exists(\"data/multimodal_test.pdf\"):\n",
    "        ingestor = Ingestor(client=client).files(\"data/multimodal_test.pdf\")\n",
    "        print(\"✅ Ingestor created successfully!\")\n",
    "        print(\"🎉 NV-Ingest setup is complete and working!\")\n",
    "        print(\"📝 Note: Full processing requires the Docker service to be stable\")\n",
    "    else:\n",
    "        print(\"⚠️  Sample file not found, but client setup is successful!\")\n",
    "except Exception as e:\n",
    "    print(f\"⚠️  Ingestor creation: {e}\")\n",
    "    print(\"✅ Client and imports are still working correctly!\")"
   ]
  },
  {
   "cell_type": "code",
   "execution_count": null,
   "id": "a38ea3f5-ce9f-452d-a397-d6b1b3a8834f",
   "metadata": {},
   "outputs": [],
   "source": [
    "# Optional: Show file information for files in /data directory\n",
    "print(\"📋 Sample Document Information:\")\n",
    "print(\"=\" * 40)\n",
    "\n",
    "sample_file = \"data/multimodal_test.pdf\"\n",
    "if os.path.exists(sample_file):\n",
    "    stat = os.stat(sample_file)\n",
    "    print(f\"📄 File: {sample_file}\")\n",
    "    print(f\"📊 Size: {stat.st_size:,} bytes ({stat.st_size/1024:.1f} KB)\")\n",
    "    print(f\"📅 Modified: {time.ctime(stat.st_mtime)}\")\n",
    "    \n",
    "    # Try to read first few bytes to confirm it's a PDF\n",
    "    with open(sample_file, 'rb') as f:\n",
    "        header = f.read(10)\n",
    "        if header.startswith(b'%PDF'):\n",
    "            print(f\"✅ Confirmed: Valid PDF file\")\n",
    "            print(f\"🔍 PDF Header: {header}\")\n",
    "        else:\n",
    "            print(f\"⚠️  Unexpected file format\")\n",
    "else:\n",
    "    print(f\"❌ File not found: {sample_file}\")\n",
    "\n",
    "# Show what files are available\n",
    "print(f\"\\n📁 Available files in data directory:\")\n",
    "if os.path.exists(\"data\"):\n",
    "    for file in os.listdir(\"data\"):\n",
    "        file_path = os.path.join(\"data\", file)\n",
    "        if os.path.isfile(file_path):\n",
    "            size = os.path.getsize(file_path)\n",
    "            print(f\"   📄 {file} ({size:,} bytes)\")"
   ]
  },
  {
   "cell_type": "code",
   "execution_count": 14,
   "id": "9b01477f-c346-4eda-b51a-0b09c73fced4",
   "metadata": {},
   "outputs": [
    {
     "name": "stdout",
     "output_type": "stream",
     "text": [
      "🔄 Testing connection to NV-Ingest services...\n",
      "✅ Client created successfully\n",
      "✅ Ingestor configured successfully\n",
      "🚀 Starting ingestion test...\n",
      "🚀 Starting test...\n"
     ]
    },
    {
     "name": "stderr",
     "output_type": "stream",
     "text": [
      "Processing Documents: 100%|██████████████████████████████████████████████████████████████| 1/1 [00:02<00:00,  2.55s/doc]"
     ]
    },
    {
     "name": "stdout",
     "output_type": "stream",
     "text": [
      "🎉 SUCCESS! The test line worked perfectly!\n",
      "📊 Processed 1 documents\n"
     ]
    },
    {
     "name": "stderr",
     "output_type": "stream",
     "text": [
      "\n"
     ]
    }
   ],
   "source": [
    "# Test the connection to NV-Ingest service\n",
    "import time\n",
    "from nv_ingest_client.client import Ingestor, NvIngestClient\n",
    "from nv_ingest_api.util.message_brokers.simple_message_broker import SimpleClient\n",
    "\n",
    "print(\"🔄 Testing connection to NV-Ingest services...\")\n",
    "\n",
    "# Create client\n",
    "client = NvIngestClient(\n",
    "    message_client_allocator=SimpleClient,\n",
    "    message_client_port=7671,\n",
    "    message_client_hostname=\"localhost\"\n",
    ")\n",
    "\n",
    "print(\"✅ Client created successfully\")\n",
    "\n",
    "# Test with a simple extraction\n",
    "ingestor = (\n",
    "    Ingestor(client=client)\n",
    "    .files(\"data/multimodal_test.pdf\")\n",
    "    .extract(extract_text=True)\n",
    ")\n",
    "\n",
    "print(\"✅ Ingestor configured successfully\")\n",
    "print(\"🚀 Starting ingestion test...\")\n",
    "\n",
    "# This is the test line from Alex's requirements\n",
    "print(\"🚀 Starting test...\")\n",
    "results = ingestor.ingest(show_progress=True)\n",
    "\n",
    "print(f\"🎉 SUCCESS! The test line worked perfectly!\")\n",
    "print(f\"📊 Processed {len(results)} documents\")"
   ]
  },
  {
   "cell_type": "code",
   "execution_count": 16,
   "id": "6c016603-aab5-42a7-a71a-a58ea2ca04d9",
   "metadata": {},
   "outputs": [
    {
     "name": "stdout",
     "output_type": "stream",
     "text": [
      "🚀 Testing FULL NV-Ingest pipeline with LOCAL Milvus...\n",
      "Starting full ingestion with vector database upload...\n"
     ]
    },
    {
     "name": "stderr",
     "output_type": "stream",
     "text": [
      "Processing Documents: 100%|██████████████████████████████████████████████████████████████| 1/1 [00:03<00:00,  3.76s/doc]\n"
     ]
    },
    {
     "name": "stdout",
     "output_type": "stream",
     "text": [
      "⏱️  Time taken: 8.25 seconds\n",
      "📊 Processed 1 documents successfully!\n",
      "\n",
      "🎉 COMPLETE SUCCESS!\n",
      "✅ Document processed and uploaded to vector database\n",
      "✅ Vector database collection 'nv_ingest_test' created in Milvus\n",
      "\n",
      "📄 Results summary:\n",
      "This chart shows some gadgets, and some very fictitious costs.   Hammer - Powerdrill - Bluetooth speaker - Minifridge - Premium desk fan Dollars $- - $20.00 - $40.00 - $60.00 - $80.00 - $100.00 - $120.00 - $140.00 - $160.00 Cost    Chart 1\n",
      "| locations, |  |  |\n",
      "| Animal | Activity | Place |\n",
      "| Giraffe | Driving a car | At the beach |\n",
      "| Lion | Putting on sunscreen | At the park |\n",
      "| Cat | Jumping onto a laptop | In a home office |\n",
      "| Dog | Chasing a squirrel | In the front yard |\n",
      "TestingDocument\n",
      "A sample document with headings and placeholder text\n",
      "Introduction\n",
      "This is a placeholder document that can be used for any purpose. It contains some \n",
      "headings and some placeholder text to fill the space. The text is not important and contains \n",
      "no real value, but it is useful for testing. Below, we will have some simple tables and charts \n",
      "that we can use to confirm Ingest is working as expected.\n",
      "Table 1\n",
      "This table describes some animals, and some activities they might be doing in specific \n",
      "locations.\n",
      "Animal Activity Place\n",
      "Gira@e Driving a car At the beach\n",
      "Lion Putting on sunscreen At the park\n",
      "Cat Jumping onto a laptop In a home o@ice\n",
      "Dog Chasing a squirrel In the front yard\n",
      "Chart 1\n",
      "This chart shows some gadgets, and some very fictitious costs.\n",
      "image_caption:[]\n",
      "image_caption:[]\n",
      "| This table shows some popular colors that cars might come in | This table shows some popular colors that cars might come in | This table shows some popular colors that cars might come in | This table shows some popular colors that cars might come in |\n",
      "| Car | Color1 | Color2 | Color3 |\n",
      "| Coupe | White | Silver | Flat Gray |\n",
      "| Sedan | White | Metallic Gray | Matte Gray |\n",
      "| Minivan | Gray | Beige | Black |\n",
      "| Truck | Dark Gray | Titanium Gray | Charcoal |\n",
      "| Convertible | Light Gray | Graphite | Slate Gray |\n",
      "Section One\n",
      "This is the first section of the document. It has some more placeholder text to show how \n",
      "the document looks like. The text is not meant to be meaningful or informative, but rather to \n",
      "demonstrate the layout and formatting of the document.\n",
      "• This is the first bullet point\n",
      "• This is the second bullet point\n",
      "• This is the third bullet point\n",
      "Section Two\n",
      "This is the second section of the document. It is more of the same as we’ve seen in the rest \n",
      "of the document. The content is meaningless, but the intent is to create a very simple \n",
      "smoke test to ensure extraction is working as intended. This will be used in CI as time goes \n",
      "on to ensure that changes we make to the library do not negatively impact our accuracy.\n",
      "Table 2\n",
      "This table shows some popular colors that cars might come in.\n",
      "Car Color1 Color2 Color3\n",
      "Coupe White Silver Flat Gray\n",
      "Sedan White Metallic Gray Matte Gray\n",
      "Minivan Gray Beige Black\n",
      "Truck Dark Gray Titanium Gray Charcoal\n",
      "Convertible Light Gray Graphite Slate Gray\n",
      "Picture\n",
      "Below, is a high-quality picture of some shapes.\n",
      "image_caption:[]\n",
      "image_caption:[]\n",
      "This chart shows some average frequency ranges for speaker drivers Frequency Ranges of Speaker Drivers   Tweeter - Midrange - Midwoofer - Subwoofer Hertz (log scale) 10 - 100 - 1000 - 10000 - 100000 FrequencyRange Start(Hz) - Frequency Range End (Hz)    Chart2\n",
      "Chart 2\n",
      "This chart shows some average frequency ranges for speaker drivers.\n",
      "Conclusion\n",
      "This is the conclusion of the document. It has some more placeholder text, but the most \n",
      "important thing is that this is the conclusion. As we end this document, we should have \n",
      "been able to extract 2 tables, 2 charts, and some text including 3 bullet points.\n",
      "image_caption:[]\n",
      "\n"
     ]
    }
   ],
   "source": [
    "# Full NV-INGEST pipeline with LOCAL Milvus\n",
    "# Note services that are running locally vs. using Endpoints:\n",
    "# RUNNING LOCALLY (Docker containers):\n",
    "#   Redis - Message broker on port 6379\n",
    "# \tetcd - Metadata storage on port 2379\n",
    "#\tMinIO - Object storage on ports 9000-9001\n",
    "#\tMilvus - Vector database on port 19530\n",
    "#\tNV-Ingest Runtime - Main orchestration service on ports 7670-7671\n",
    "# NVIDIA hosted endpoints:\n",
    "#\tPaddleOCR: https://ai.api.nvidia.com/v1/cv/baidu/paddleocr\n",
    "#\tPage Elements Detection: https://ai.api.nvidia.com/v1/cv/nvidia/nv-yolox-page-elements-v1\n",
    "#\tGraphic Elements Detection: https://ai.api.nvidia.com/v1/cv/nvidia/nemoretriever-graphic-elements-v1\n",
    "#\tTable Structure Detection: https://ai.api.nvidia.com/v1/cv/nvidia/nemoretriever-table-structure-v1\n",
    "#\tNemoRetriever Parse: https://ai.api.nvidia.com/v1/cv/nvidia/nemoretriever-parse\n",
    "#\tEmbeddings: https://integrate.api.nvidia.com/v1 (nvidia/llama-3.2-nv-embedqa-1b-v2)\n",
    "#\tVision-Language Model: https://integrate.api.nvidia.com/v1 (meta/llama-3.2-11b-vision-instruct)\n",
    "#\tSpeech-to-Text: https://ai.api.nvidia.com/v1/audio/nvidia/speechtotext\n",
    "\n",
    "# Import required libraries for timing, client connections, and result processing\n",
    "import time\n",
    "from nv_ingest_client.client import Ingestor, NvIngestClient\n",
    "from nv_ingest_api.util.message_brokers.simple_message_broker import SimpleClient\n",
    "from nv_ingest_client.util.process_json_files import ingest_json_results_to_blob\n",
    "\n",
    "print(\"🚀 Testing FULL NV-Ingest pipeline with LOCAL Milvus...\")\n",
    "\n",
    "# Create connection to the NV-Ingest service running in Docker\n",
    "# This connects to the main orchestration service on port 7671\n",
    "# This code uses simple message broker and runs the client locally\n",
    "client = NvIngestClient(\n",
    "    message_client_allocator=SimpleClient,\n",
    "    message_client_port=7671,\n",
    "    message_client_hostname=\"localhost\"\n",
    ")\n",
    "\n",
    "# Configure connection to local Milvus vector database\n",
    "# Milvus runs locally on port 19530\n",
    "milvus_uri = \"http://localhost:19530\"\n",
    "collection_name = \"nv_ingest_test\"\n",
    "\n",
    "# Build the processing pipeline using method chaining\n",
    "ingestor = (\n",
    "    Ingestor(client=client)\n",
    "    .files(\"data/multimodal_test.pdf\")\n",
    "    # EXTRACTION PHASE: Extract different types of content types from the PDF\n",
    "    .extract(              \n",
    "        extract_text=True,\n",
    "        extract_tables=True,\n",
    "        extract_charts=True,\n",
    "        extract_images=True,\n",
    "        paddle_output_format=\"markdown\",\n",
    "        extract_infographics=True,\n",
    "        text_depth=\"page\"\n",
    "    )\n",
    "    # EMBEDDING PHASE: Generate vector embeddings for semantic search\n",
    "    .embed()\n",
    "    # STORAGE PHASE: Upload to vector database for retrieval\n",
    "    .vdb_upload(\n",
    "        collection_name=collection_name,\n",
    "        milvus_uri=milvus_uri,\n",
    "        sparse=False,\n",
    "        dense_dim=2048,\n",
    "        recreate=True\n",
    "    )\n",
    ")\n",
    "\n",
    "print(\"Starting full ingestion with vector database upload...\")\n",
    "t0 = time.time()\n",
    "\n",
    "# EXECUTE THE NV-INGEST PIPELINE\n",
    "# The first line (from Alex's requirements) orchestrates the workflow:\n",
    "# 1. Sends PDF to NV-Ingest service (localhost:7670)\n",
    "# 2. NV-Ingest calls NVIDIA endpoints for AI processing:\n",
    "#    - PaddleOCR for table extraction\n",
    "#    - Page/Graphic elements detection for layout analysis  \n",
    "#    - Vision-language model for image understanding\n",
    "#    - Embedding model for vector generation\n",
    "# 3. Results are aggregated and returned\n",
    "# 4. Embeddings are uploaded to local Milvus database\n",
    "# 5. Progress bar shows real-time status\n",
    "results = ingestor.ingest(show_progress=True)\n",
    "\n",
    "t1 = time.time()\n",
    "print(f\"⏱️  Time taken: {t1-t0:.2f} seconds\")\n",
    "print(f\"📊 Processed {len(results)} documents successfully!\")\n",
    "\n",
    "# Let user know if processing sucessfully completes\n",
    "if results:\n",
    "    print(f\"\\n🎉 COMPLETE SUCCESS!\")\n",
    "    print(f\"✅ Document processed and uploaded to vector database\")\n",
    "    print(f\"✅ Vector database collection '{collection_name}' created in Milvus\")\n",
    "\n",
    "# Show results\n",
    "if results:\n",
    "    print(f\"\\n📄 Results summary:\")\n",
    "    print(ingest_json_results_to_blob(results[0]))"
   ]
  },
  {
   "cell_type": "code",
   "execution_count": null,
   "id": "d76ec58e-fbc0-460a-b0f9-798dd8087463",
   "metadata": {},
   "outputs": [],
   "source": []
  }
 ],
 "metadata": {
  "kernelspec": {
   "display_name": "Python 3 (ipykernel)",
   "language": "python",
   "name": "python3"
  },
  "language_info": {
   "codemirror_mode": {
    "name": "ipython",
    "version": 3
   },
   "file_extension": ".py",
   "mimetype": "text/x-python",
   "name": "python",
   "nbconvert_exporter": "python",
   "pygments_lexer": "ipython3",
   "version": "3.10.12"
  }
 },
 "nbformat": 4,
 "nbformat_minor": 5
}
